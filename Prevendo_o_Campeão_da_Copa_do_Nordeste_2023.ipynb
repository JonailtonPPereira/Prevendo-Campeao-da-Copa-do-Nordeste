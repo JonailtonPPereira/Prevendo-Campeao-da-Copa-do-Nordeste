{
  "nbformat": 4,
  "nbformat_minor": 0,
  "metadata": {
    "colab": {
      "provenance": [],
      "mount_file_id": "1mF6BR7ftKrIALIZMe4VFQnwRN7-LmucE",
      "authorship_tag": "ABX9TyMaees4z85BwM98DeMA4tw/",
      "include_colab_link": true
    },
    "kernelspec": {
      "name": "python3",
      "display_name": "Python 3"
    },
    "language_info": {
      "name": "python"
    }
  },
  "cells": [
    {
      "cell_type": "markdown",
      "metadata": {
        "id": "view-in-github",
        "colab_type": "text"
      },
      "source": [
        "<a href=\"https://colab.research.google.com/github/JonailtonPPereira/Prevendo-Campeao-da-Copa-do-Nordeste/blob/master/Prevendo_o_Campe%C3%A3o_da_Copa_do_Nordeste_2023.ipynb\" target=\"_parent\"><img src=\"https://colab.research.google.com/assets/colab-badge.svg\" alt=\"Open In Colab\"/></a>"
      ]
    },
    {
      "cell_type": "markdown",
      "source": [],
      "metadata": {
        "id": "2swfnlkaX-_z"
      }
    },
    {
      "cell_type": "markdown",
      "source": [
        "# O Score é com base no [Ranking da CBF 2022](https://www.rankingcbf.com/) para a temporada 2022-23. A estrutura do grupos é definida com base na [tabela oficial](https://ge.globo.com/futebol/copa-do-nordeste/)."
      ],
      "metadata": {
        "id": "zoNMs9ysWcjR"
      }
    },
    {
      "cell_type": "code",
      "execution_count": 1,
      "metadata": {
        "id": "JmcIuWIo0hWy"
      },
      "outputs": [],
      "source": [
        "# Importando a biblioteca pandas para ler o arquivo csv\n",
        "import pandas as pd"
      ]
    },
    {
      "cell_type": "code",
      "source": [
        "# Leitura do arquivo csv e visualização dos dados presentes\n",
        "df = pd.read_csv(\"https://raw.githubusercontent.com/JonailtonPPereira/Prevendo-Campeao-da-Copa-do-Nordeste/master/Copa_do_NE.csv\")\n",
        "df"
      ],
      "metadata": {
        "colab": {
          "base_uri": "https://localhost:8080/",
          "height": 300
        },
        "id": "QVINm5gHTHgo",
        "outputId": "221f1f8f-b5fb-4fbb-fd67-e75b405d36c3"
      },
      "execution_count": 7,
      "outputs": [
        {
          "output_type": "execute_result",
          "data": {
            "text/plain": [
              "                    A                  B\n",
              "0   FORTALEZA|12512.0     NAUTICO|3720.0\n",
              "1  FERROVIARIO|2237.0  SANTA CRUZ|2012.0\n",
              "2        SPORT|5929.0         CSA|5088.0\n",
              "3          CRB|5259.0       BAHIA|9289.0\n",
              "4      SAMPAIO|4529.0         ABC|2842.0\n",
              "5      VITORIA|4932.0      SERGIPE|871.0\n",
              "6  FUMINENSE_PI|505.0    CAMPINENSE|1484\n",
              "7   ATLETICO_BA|882.0       CEARA|9958.0"
            ],
            "text/html": [
              "\n",
              "  <div id=\"df-5aaa19b8-7f3d-43ea-ab65-24c94faddf83\">\n",
              "    <div class=\"colab-df-container\">\n",
              "      <div>\n",
              "<style scoped>\n",
              "    .dataframe tbody tr th:only-of-type {\n",
              "        vertical-align: middle;\n",
              "    }\n",
              "\n",
              "    .dataframe tbody tr th {\n",
              "        vertical-align: top;\n",
              "    }\n",
              "\n",
              "    .dataframe thead th {\n",
              "        text-align: right;\n",
              "    }\n",
              "</style>\n",
              "<table border=\"1\" class=\"dataframe\">\n",
              "  <thead>\n",
              "    <tr style=\"text-align: right;\">\n",
              "      <th></th>\n",
              "      <th>A</th>\n",
              "      <th>B</th>\n",
              "    </tr>\n",
              "  </thead>\n",
              "  <tbody>\n",
              "    <tr>\n",
              "      <th>0</th>\n",
              "      <td>FORTALEZA|12512.0</td>\n",
              "      <td>NAUTICO|3720.0</td>\n",
              "    </tr>\n",
              "    <tr>\n",
              "      <th>1</th>\n",
              "      <td>FERROVIARIO|2237.0</td>\n",
              "      <td>SANTA CRUZ|2012.0</td>\n",
              "    </tr>\n",
              "    <tr>\n",
              "      <th>2</th>\n",
              "      <td>SPORT|5929.0</td>\n",
              "      <td>CSA|5088.0</td>\n",
              "    </tr>\n",
              "    <tr>\n",
              "      <th>3</th>\n",
              "      <td>CRB|5259.0</td>\n",
              "      <td>BAHIA|9289.0</td>\n",
              "    </tr>\n",
              "    <tr>\n",
              "      <th>4</th>\n",
              "      <td>SAMPAIO|4529.0</td>\n",
              "      <td>ABC|2842.0</td>\n",
              "    </tr>\n",
              "    <tr>\n",
              "      <th>5</th>\n",
              "      <td>VITORIA|4932.0</td>\n",
              "      <td>SERGIPE|871.0</td>\n",
              "    </tr>\n",
              "    <tr>\n",
              "      <th>6</th>\n",
              "      <td>FUMINENSE_PI|505.0</td>\n",
              "      <td>CAMPINENSE|1484</td>\n",
              "    </tr>\n",
              "    <tr>\n",
              "      <th>7</th>\n",
              "      <td>ATLETICO_BA|882.0</td>\n",
              "      <td>CEARA|9958.0</td>\n",
              "    </tr>\n",
              "  </tbody>\n",
              "</table>\n",
              "</div>\n",
              "      <button class=\"colab-df-convert\" onclick=\"convertToInteractive('df-5aaa19b8-7f3d-43ea-ab65-24c94faddf83')\"\n",
              "              title=\"Convert this dataframe to an interactive table.\"\n",
              "              style=\"display:none;\">\n",
              "        \n",
              "  <svg xmlns=\"http://www.w3.org/2000/svg\" height=\"24px\"viewBox=\"0 0 24 24\"\n",
              "       width=\"24px\">\n",
              "    <path d=\"M0 0h24v24H0V0z\" fill=\"none\"/>\n",
              "    <path d=\"M18.56 5.44l.94 2.06.94-2.06 2.06-.94-2.06-.94-.94-2.06-.94 2.06-2.06.94zm-11 1L8.5 8.5l.94-2.06 2.06-.94-2.06-.94L8.5 2.5l-.94 2.06-2.06.94zm10 10l.94 2.06.94-2.06 2.06-.94-2.06-.94-.94-2.06-.94 2.06-2.06.94z\"/><path d=\"M17.41 7.96l-1.37-1.37c-.4-.4-.92-.59-1.43-.59-.52 0-1.04.2-1.43.59L10.3 9.45l-7.72 7.72c-.78.78-.78 2.05 0 2.83L4 21.41c.39.39.9.59 1.41.59.51 0 1.02-.2 1.41-.59l7.78-7.78 2.81-2.81c.8-.78.8-2.07 0-2.86zM5.41 20L4 18.59l7.72-7.72 1.47 1.35L5.41 20z\"/>\n",
              "  </svg>\n",
              "      </button>\n",
              "      \n",
              "  <style>\n",
              "    .colab-df-container {\n",
              "      display:flex;\n",
              "      flex-wrap:wrap;\n",
              "      gap: 12px;\n",
              "    }\n",
              "\n",
              "    .colab-df-convert {\n",
              "      background-color: #E8F0FE;\n",
              "      border: none;\n",
              "      border-radius: 50%;\n",
              "      cursor: pointer;\n",
              "      display: none;\n",
              "      fill: #1967D2;\n",
              "      height: 32px;\n",
              "      padding: 0 0 0 0;\n",
              "      width: 32px;\n",
              "    }\n",
              "\n",
              "    .colab-df-convert:hover {\n",
              "      background-color: #E2EBFA;\n",
              "      box-shadow: 0px 1px 2px rgba(60, 64, 67, 0.3), 0px 1px 3px 1px rgba(60, 64, 67, 0.15);\n",
              "      fill: #174EA6;\n",
              "    }\n",
              "\n",
              "    [theme=dark] .colab-df-convert {\n",
              "      background-color: #3B4455;\n",
              "      fill: #D2E3FC;\n",
              "    }\n",
              "\n",
              "    [theme=dark] .colab-df-convert:hover {\n",
              "      background-color: #434B5C;\n",
              "      box-shadow: 0px 1px 3px 1px rgba(0, 0, 0, 0.15);\n",
              "      filter: drop-shadow(0px 1px 2px rgba(0, 0, 0, 0.3));\n",
              "      fill: #FFFFFF;\n",
              "    }\n",
              "  </style>\n",
              "\n",
              "      <script>\n",
              "        const buttonEl =\n",
              "          document.querySelector('#df-5aaa19b8-7f3d-43ea-ab65-24c94faddf83 button.colab-df-convert');\n",
              "        buttonEl.style.display =\n",
              "          google.colab.kernel.accessAllowed ? 'block' : 'none';\n",
              "\n",
              "        async function convertToInteractive(key) {\n",
              "          const element = document.querySelector('#df-5aaa19b8-7f3d-43ea-ab65-24c94faddf83');\n",
              "          const dataTable =\n",
              "            await google.colab.kernel.invokeFunction('convertToInteractive',\n",
              "                                                     [key], {});\n",
              "          if (!dataTable) return;\n",
              "\n",
              "          const docLinkHtml = 'Like what you see? Visit the ' +\n",
              "            '<a target=\"_blank\" href=https://colab.research.google.com/notebooks/data_table.ipynb>data table notebook</a>'\n",
              "            + ' to learn more about interactive tables.';\n",
              "          element.innerHTML = '';\n",
              "          dataTable['output_type'] = 'display_data';\n",
              "          await google.colab.output.renderOutput(dataTable, element);\n",
              "          const docLink = document.createElement('div');\n",
              "          docLink.innerHTML = docLinkHtml;\n",
              "          element.appendChild(docLink);\n",
              "        }\n",
              "      </script>\n",
              "    </div>\n",
              "  </div>\n",
              "  "
            ]
          },
          "metadata": {},
          "execution_count": 7
        }
      ]
    },
    {
      "cell_type": "markdown",
      "source": [
        "# Classe que representa um time, com suas características e comportamentos:"
      ],
      "metadata": {
        "id": "xDxYIR15Wh2v"
      }
    },
    {
      "cell_type": "code",
      "source": [
        "import random\n",
        "\n",
        "class Team:\n",
        "  best_score = 12512.0 # Fortaleza\n",
        "\n",
        "  # Definir um construtor com os atributos adequados (Tendo em vista o conteúdo de uma célula CSV)\n",
        "  def __init__(self, content):\n",
        "    teamData= content.split('|')\n",
        "    self.name = teamData[0]\n",
        "    self.score = float(teamData[1])\n",
        "\n",
        "  def motivate(self):\n",
        "    \"\"\"\n",
        "    A pior equipe com base no ranking (Sergipe) tem 871 de score no ranking da CBF, o que equivale a 6,96% da melhor equipe (Fortaleza) que 12512.0 de score.\n",
        "    Sendo assim, para que a aleatoriedade não seja tão determinante, irei definir um intervalor inicial próximo de 6,96.\n",
        "    \n",
        "    Por exemplo, Sergipe poderia ter valores entre 4~6,96 (Aproximandamente). Por outro lado, o Fortaleza teria 4~100 (Maior chance de ser campeão).\n",
        "    12512 (Fortaleza) ---- 100%\n",
        "    871 (Sergipe) --------- x \n",
        "    \"\"\"\n",
        "\n",
        "    self.lastMotivation = random.uniform(4, (self.score * 100) / Team.best_score)\n",
        "    # Todo: Com base no comentário/insight acima, criar uma lógica para atribuir a motivação do timne.\n",
        "    return self.lastMotivation"
      ],
      "metadata": {
        "id": "b1ZvToC8Wo_v"
      },
      "execution_count": 8,
      "outputs": []
    },
    {
      "cell_type": "markdown",
      "source": [
        "# Simulando a Fase de   Grupos da Copa do Nordeste\n",
        "\n"
      ],
      "metadata": {
        "id": "Fz230c4aIlkW"
      }
    },
    {
      "cell_type": "code",
      "source": [
        "# Mpa em que a chave será a letra do grupo e o valor as equipes (Ordenadas pelas melhores);\n",
        "bestTeamByGroups = {}\n",
        "# Percorre o datafram para criar nossos objetos/seleções.\n",
        "for label, content in df.items():\n",
        "  # Instanciando os times dos dois grupos, com seus respectivos nomes e rankings.\n",
        "  team1 = Team(content[0])\n",
        "  team2 = Team(content[1])\n",
        "  team3 = Team(content[2])\n",
        "  team4 = Team(content[3])\n",
        "  team5 = Team(content[4])\n",
        "  team6 = Team(content[5])\n",
        "  team7 = Team(content[6])\n",
        "  team8 = Team(content[7])\n",
        "  # Simulando os melhores de cada grupo com base na motivação\n",
        "  bestTeamByGroups[label] = sorted([ team1, team2, team3, team4, team5, team6, team7, team8 ], key=Team.motivate, reverse=True)\n",
        "\n",
        "# Imprimir os grupos, ordenados pelos melhores times de cada\n",
        "for grupo, motivatedTeams in bestTeamByGroups.items():\n",
        "  print(f'Grupo {grupo}: ', end=\"\")\n",
        "  for team in motivatedTeams:\n",
        "    print(f'{team.name} ({team.lastMotivation:.2f}) ', end=\"\")\n",
        "  print()"
      ],
      "metadata": {
        "colab": {
          "base_uri": "https://localhost:8080/"
        },
        "id": "EeBJBKSPIn9w",
        "outputId": "01db9102-a349-4180-d5d5-d709e188e844"
      },
      "execution_count": 10,
      "outputs": [
        {
          "output_type": "stream",
          "name": "stdout",
          "text": [
            "Grupo A: FORTALEZA (70.12) SPORT (27.59) FERROVIARIO (17.27) VITORIA (12.20) SAMPAIO (8.89) CRB (5.69) ATLETICO_BA (4.83) FUMINENSE_PI (4.03) \n",
            "Grupo B: CEARA (73.98) BAHIA (46.98) ABC (16.91) CSA (14.47) NAUTICO (9.65) CAMPINENSE (9.56) SANTA CRUZ (6.81) SERGIPE (4.50) \n"
          ]
        }
      ]
    },
    {
      "cell_type": "markdown",
      "source": [
        "# Simulando as Quartas de Finais da Copa do Nordeste"
      ],
      "metadata": {
        "id": "kmmvGeRUi6Zh"
      }
    },
    {
      "cell_type": "code",
      "source": [
        "# Criando as variáveis para os 4 melhores times de cada grupo\n",
        "team1A = bestTeamByGroups[\"A\"][0]\n",
        "team2A = bestTeamByGroups[\"A\"][1]\n",
        "team3A = bestTeamByGroups[\"A\"][2]\n",
        "team4A = bestTeamByGroups[\"A\"][3]\n",
        "team1B = bestTeamByGroups[\"B\"][0]\n",
        "team2B = bestTeamByGroups[\"B\"][1]\n",
        "team3B = bestTeamByGroups[\"B\"][2]\n",
        "team4B = bestTeamByGroups[\"B\"][3]\n",
        "\n",
        "# Simulando os confrontos das oitavas de final (Aplicando a aleatoriedade nas motivações das equipes)\n",
        "# Além de definir os classificados para as quartas em novas variáveis:\n",
        "Quartas1 = team1A if team1A.motivate() > team4A.motivate() else team4A\n",
        "Quartas2 = team2B if team2B.motivate() > team3B.motivate() else team3B\n",
        "Quartas3 = team1B if team1B.motivate() > team4B.motivate() else team4B\n",
        "Quartas4 = team2A if team2A.motivate() > team3A.motivate() else team3A\n",
        "\n",
        "# Imprimindo os \"resultados\" dos confrontos:\n",
        "print(f'{team1A.name} ({team1A.lastMotivation:.2f}) x {team4A.name} ({team4A.lastMotivation:.2f})')\n",
        "print(f'{team2B.name} ({team2B.lastMotivation:.2f}) x {team3B.name} ({team3B.lastMotivation:.2f})')\n",
        "print(f'{team1B.name} ({team1B.lastMotivation:.2f}) x {team4B.name} ({team4B.lastMotivation:.2f})')\n",
        "print(f'{team2A.name} ({team2A.lastMotivation:.2f}) x {team3A.name} ({team3A.lastMotivation:.2f})')\n"
      ],
      "metadata": {
        "colab": {
          "base_uri": "https://localhost:8080/"
        },
        "id": "eypIAkNEaZ5U",
        "outputId": "43576688-5d25-46e6-a1c9-402e2bec2910"
      },
      "execution_count": 11,
      "outputs": [
        {
          "output_type": "stream",
          "name": "stdout",
          "text": [
            "FORTALEZA (97.33) x VITORIA (25.97)\n",
            "BAHIA (31.45) x ABC (19.73)\n",
            "CEARA (39.51) x CSA (29.93)\n",
            "SPORT (40.19) x FERROVIARIO (5.26)\n"
          ]
        }
      ]
    },
    {
      "cell_type": "markdown",
      "source": [
        "# Simulando as Semifinais da Copa do Nordeste"
      ],
      "metadata": {
        "id": "vg7A5lnsWyBM"
      }
    },
    {
      "cell_type": "code",
      "source": [
        "# Simulando os confrontos das Semifinais (Aplicando a aleatoriedade nas motivações das equipes)\n",
        "# Além de definir os classificados para as finais em novas variáveis:\n",
        "Semifinalistas1 = Quartas1 if Quartas1.motivate() > Quartas2.motivate() else Quartas2\n",
        "Semifinalistas2 = Quartas3 if Quartas3.motivate() > Quartas4.motivate() else Quartas4\n",
        "\n",
        "# Imprimindo os \"resultados\" das semifinais:\n",
        "print(f'{Quartas1.name} ({Quartas1.lastMotivation:.2f}) x {Quartas2.name} ({Quartas2.lastMotivation:.2f})')\n",
        "print(f'{Quartas3.name} ({Quartas3.lastMotivation:.2f}) x {Quartas4.name} ({Quartas4.lastMotivation:.2f})')"
      ],
      "metadata": {
        "colab": {
          "base_uri": "https://localhost:8080/"
        },
        "id": "Jib3Zcx3WxjB",
        "outputId": "19f64575-849b-4912-99c1-291e281aa090"
      },
      "execution_count": 14,
      "outputs": [
        {
          "output_type": "stream",
          "name": "stdout",
          "text": [
            "FORTALEZA (28.32) x BAHIA (50.47)\n",
            "CEARA (6.08) x SPORT (45.86)\n"
          ]
        }
      ]
    },
    {
      "cell_type": "markdown",
      "source": [
        "# Simulando a Grande final da Copa do Nordeste"
      ],
      "metadata": {
        "id": "LnrYNcl9YOSn"
      }
    },
    {
      "cell_type": "code",
      "source": [
        "# Simulando o confronto da Final (Aplicando a aleatoriedade nas motivações das equipes)\n",
        "# Além de definir o grande campeão e o vice em novas variáveis:\n",
        "campeao = Semifinalistas1 if Semifinalistas1.motivate() > Semifinalistas2.motivate() else Semifinalistas2\n",
        "viceCampeao = Semifinalistas1 if Semifinalistas1.motivate() < Semifinalistas2.motivate() else Semifinalistas2\n",
        "\n",
        "# Imprimindo os \"resultados\" das semifinais:\n",
        "\n",
        "print(f'Campeão: {campeao.name} ({campeao.lastMotivation:.2f})')\n",
        "print(f'Vice-campeão: {viceCampeao.name} ({viceCampeao.lastMotivation:.2f})')\n"
      ],
      "metadata": {
        "colab": {
          "base_uri": "https://localhost:8080/"
        },
        "id": "t6UUbd9GYvEF",
        "outputId": "d6a7e9a4-9669-4d01-ad1b-4be09ee7a1e7"
      },
      "execution_count": 23,
      "outputs": [
        {
          "output_type": "stream",
          "name": "stdout",
          "text": [
            "Campeão: SPORT (46.49)\n",
            "Vice-campeão: BAHIA (8.82)\n"
          ]
        }
      ]
    }
  ]
}